{
 "cells": [
  {
   "cell_type": "code",
   "execution_count": null,
   "metadata": {},
   "outputs": [],
   "source": [
    "!pip install pymedphys[user]"
   ]
  },
  {
   "cell_type": "code",
   "execution_count": null,
   "metadata": {},
   "outputs": [],
   "source": [
    "import copy\n",
    "from os import path\n",
    "\n",
    "import numpy as np\n",
    "import matplotlib.pyplot as plt\n",
    "import pydicom\n",
    "\n",
    "import pymedphys\n",
    "from pymedphys._data import download"
   ]
  },
  {
   "cell_type": "code",
   "execution_count": null,
   "metadata": {},
   "outputs": [],
   "source": [
    "ds1 = pydicom.dcmread(\n",
    "        str(\n",
    "            download.get_file_within_data_zip(\n",
    "                \"dicom_dose_test_data.zip\",  \"RD.wedge.dcm\"\n",
    "            )\n",
    "        ),\n",
    "        force=True,\n",
    "    )\n",
    "\n",
    "ds2 = copy.deepcopy(ds1)"
   ]
  },
  {
   "cell_type": "code",
   "execution_count": null,
   "metadata": {},
   "outputs": [],
   "source": [
    "dose1 = ds1.pixel_array.astype(np.float64)\n",
    "np.shape(dose1)"
   ]
  },
  {
   "cell_type": "code",
   "execution_count": null,
   "metadata": {},
   "outputs": [],
   "source": [
    "\n",
    "plt.imshow(dose1[30,:,:])"
   ]
  },
  {
   "cell_type": "code",
   "execution_count": null,
   "metadata": {},
   "outputs": [],
   "source": [
    "\n",
    "dose2 = ds2.pixel_array.astype(np.float64)\n",
    "dose2 += np.random.rand(np.shape(dose1)[0],np.shape(dose1)[1],np.shape(dose1)[2])*0.1*np.amax(dose1)\n",
    "plt.imshow(dose2[30,:,:])"
   ]
  },
  {
   "cell_type": "code",
   "execution_count": null,
   "metadata": {},
   "outputs": [],
   "source": []
  }
 ],
 "metadata": {
  "interpreter": {
   "hash": "230eda8d05a12a922d797cf449b5880ef3cb2c4fc4c236520724aa1fd769a33d"
  },
  "kernelspec": {
   "display_name": "pymedphys",
   "language": "python",
   "name": "pymedphys"
  },
  "language_info": {
   "codemirror_mode": {
    "name": "ipython",
    "version": 3
   },
   "file_extension": ".py",
   "mimetype": "text/x-python",
   "name": "python",
   "nbconvert_exporter": "python",
   "pygments_lexer": "ipython3",
   "version": "3.10.4"
  }
 },
 "nbformat": 4,
 "nbformat_minor": 2
}
